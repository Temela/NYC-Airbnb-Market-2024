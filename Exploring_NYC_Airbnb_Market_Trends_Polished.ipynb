{
 "cells": [
  {
   "cell_type": "markdown",
   "id": "be1fc69d",
   "metadata": {},
   "source": [
    "# 🏙️ Exploring NYC Airbnb Market Trends\n",
    "\n",
    "**Dataset:** Simulated NYC Airbnb 2024 data\n",
    "**Author:** Fr. Nduka Anthony\n",
    "\n",
    "This notebook explores the dynamics of the NYC Airbnb market using a simulated dataset. We’ll look at price patterns, neighborhood trends, and room availability insights."
   ]
  },
  {
   "cell_type": "code",
   "execution_count": null,
   "id": "3687d4b1",
   "metadata": {},
   "outputs": [],
   "source": [
    "import pandas as pd\n",
    "import seaborn as sns\n",
    "import matplotlib.pyplot as plt\n",
    "import numpy as np\n",
    "\n",
    "sns.set(style='whitegrid')\n",
    "df = pd.read_csv('simulated_airbnb_nyc.csv')\n",
    "df.head()"
   ]
  },
  {
   "cell_type": "markdown",
   "id": "fad5da73",
   "metadata": {},
   "source": [
    "## 📌 Dataset Overview"
   ]
  },
  {
   "cell_type": "code",
   "execution_count": null,
   "id": "e8aea5b0",
   "metadata": {},
   "outputs": [],
   "source": [
    "df.info()"
   ]
  },
  {
   "cell_type": "markdown",
   "id": "3a660393",
   "metadata": {},
   "source": [
    "## 🧼 Data Cleaning"
   ]
  },
  {
   "cell_type": "code",
   "execution_count": null,
   "id": "cbb4366c",
   "metadata": {},
   "outputs": [],
   "source": [
    "# Check for missing values\n",
    "df.isnull().sum()"
   ]
  },
  {
   "cell_type": "markdown",
   "id": "95faf834",
   "metadata": {},
   "source": [
    "## 📊 Room Type Distribution"
   ]
  },
  {
   "cell_type": "code",
   "execution_count": null,
   "id": "1b29415c",
   "metadata": {},
   "outputs": [],
   "source": [
    "room_counts = df['room_type'].value_counts()\n",
    "sns.countplot(data=df, x='room_type', order=room_counts.index, palette='Set2')\n",
    "plt.title('Room Type Distribution')\n",
    "plt.xticks(rotation=15)\n",
    "plt.show()"
   ]
  },
  {
   "cell_type": "markdown",
   "id": "b500d437",
   "metadata": {},
   "source": [
    "## 💰 Average Price by Neighbourhood Group"
   ]
  },
  {
   "cell_type": "code",
   "execution_count": null,
   "id": "3f76b807",
   "metadata": {},
   "outputs": [],
   "source": [
    "sns.barplot(data=df, x='neighbourhood_group', y='price', estimator=np.mean, palette='viridis')\n",
    "plt.title('Average Price by Neighbourhood Group')\n",
    "plt.xticks(rotation=30)\n",
    "plt.ylabel('Average Price ($)')\n",
    "plt.show()"
   ]
  },
  {
   "cell_type": "markdown",
   "id": "77e60263",
   "metadata": {},
   "source": [
    "## 🔍 Correlation Heatmap"
   ]
  },
  {
   "cell_type": "code",
   "execution_count": null,
   "id": "12d65f82",
   "metadata": {},
   "outputs": [],
   "source": [
    "corr = df[['price', 'minimum_nights', 'number_of_reviews', 'reviews_per_month', 'calculated_host_listings_count', 'availability_365']].corr()\n",
    "sns.heatmap(corr, annot=True, cmap='coolwarm', fmt='.2f')\n",
    "plt.title('Correlation Matrix')\n",
    "plt.show()"
   ]
  },
  {
   "cell_type": "markdown",
   "id": "39bd5088",
   "metadata": {},
   "source": [
    "## 📆 Availability Distribution"
   ]
  },
  {
   "cell_type": "code",
   "execution_count": null,
   "id": "24208144",
   "metadata": {},
   "outputs": [],
   "source": [
    "sns.histplot(data=df, x='availability_365', bins=30, color='skyblue')\n",
    "plt.title('Availability Distribution (0–365 days)')\n",
    "plt.xlabel('Days Available Per Year')\n",
    "plt.show()"
   ]
  },
  {
   "cell_type": "markdown",
   "id": "fc4ee6b3",
   "metadata": {},
   "source": [
    "## 🌍 Geospatial Room Type Distribution"
   ]
  },
  {
   "cell_type": "code",
   "execution_count": null,
   "id": "fcab2db2",
   "metadata": {},
   "outputs": [],
   "source": [
    "plt.figure(figsize=(8,6))\n",
    "sns.scatterplot(data=df, x='longitude', y='latitude', hue='room_type', alpha=0.6)\n",
    "plt.title('Room Types Across NYC (Simulated)')\n",
    "plt.xlabel('Longitude')\n",
    "plt.ylabel('Latitude')\n",
    "plt.legend(loc='upper right')\n",
    "plt.show()"
   ]
  },
  {
   "cell_type": "markdown",
   "id": "62253a4c",
   "metadata": {},
   "source": [
    "## 🧠 Key Discoveries\n",
    "- Entire homes tend to dominate Brooklyn and Manhattan.\n",
    "- Shared rooms are less common and concentrated.\n",
    "- Prices are higher in Manhattan; Staten Island is most affordable.\n",
    "- Availability is widely distributed; some hosts list year-round.\n",
    "- Positive correlation between number of listings and reviews/month (suggesting active hosts)."
   ]
  }
 ],
 "metadata": {},
 "nbformat": 4,
 "nbformat_minor": 5
}
